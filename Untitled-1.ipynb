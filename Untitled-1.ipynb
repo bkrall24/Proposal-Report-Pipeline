{
 "cells": [
  {
   "cell_type": "code",
   "execution_count": 3,
   "metadata": {},
   "outputs": [],
   "source": [
    "from docxtpl import DocxTemplate\n",
    "from docx import Document, Table\n",
    "import re\n",
    "\n",
    "import numpy as np\n",
    "# from docx.shared import Pt\n",
    "from datetime import date\n",
    "import os\n",
    "import pandas as pd\n"
   ]
  },
  {
   "cell_type": "markdown",
   "metadata": {},
   "source": []
  },
  {
   "cell_type": "code",
   "execution_count": 3,
   "metadata": {},
   "outputs": [
    {
     "name": "stderr",
     "output_type": "stream",
     "text": [
      "/Users/rebeccakrall/miniconda3/envs/pra/lib/python3.11/site-packages/openpyxl/worksheet/_reader.py:329: UserWarning: Unknown extension is not supported and will be removed\n",
      "  warn(msg)\n"
     ]
    }
   ],
   "source": [
    "assays = pd.read_excel(\"/Users/rebeccakrall/Desktop/Example for Proposal Report Automation/Assay Codes.xlsx\")"
   ]
  },
  {
   "cell_type": "code",
   "execution_count": 10,
   "metadata": {},
   "outputs": [],
   "source": [
    "doc = docx.Document(\"/Users/rebeccakrall/Desktop/Example for Proposal Report Automation/Standard  Methods -Mice 100410.docx\")"
   ]
  },
  {
   "cell_type": "code",
   "execution_count": 15,
   "metadata": {},
   "outputs": [],
   "source": [
    "toc = [p.text.split('\\t')[-2] for p in doc.paragraphs if bool(re.search(r'\\t+\\d', p.text))]\n"
   ]
  },
  {
   "cell_type": "code",
   "execution_count": 27,
   "metadata": {},
   "outputs": [
    {
     "name": "stdout",
     "output_type": "stream",
     "text": [
      "DEXA found\n",
      "Tail Suspension found\n",
      "Hot Plate found\n",
      "Formalin found\n",
      "Delayed Type Hypersensitivity found\n",
      "Bleeding Time found\n",
      "Contact Dermatitis found\n",
      "Sebum Production found\n",
      "Elevated Plus Maze found\n",
      "Audiogenic Seizure found\n",
      "Novel Object Recognition found\n"
     ]
    }
   ],
   "source": [
    "for x in toc:\n",
    "    \n",
    "    if x in list(assays['Assay']):\n",
    "        print(x+' found')"
   ]
  },
  {
   "cell_type": "code",
   "execution_count": 24,
   "metadata": {},
   "outputs": [
    {
     "data": {
      "text/plain": [
       "0                             6-OHDA Lesion\n",
       "1     Abnormal Involuntary Movements (AIMs)\n",
       "2                    Acetylcholine Writhing\n",
       "3                           Alpha Synuclein\n",
       "4                        Audiogenic Seizure\n",
       "                      ...                  \n",
       "90                  Voluntary Running Wheel\n",
       "91                     Vogel Water Conflict\n",
       "92                                 Von Frey\n",
       "93                            Wound Healing\n",
       "94                                 ZDF rats\n",
       "Name: Assay, Length: 95, dtype: object"
      ]
     },
     "execution_count": 24,
     "metadata": {},
     "output_type": "execute_result"
    }
   ],
   "source": [
    "assays['Assay']"
   ]
  },
  {
   "cell_type": "code",
   "execution_count": 20,
   "metadata": {},
   "outputs": [],
   "source": [
    "proposal_template = DocxTemplate(\"/Users/rebeccakrall/Desktop/Example for Proposal Report Automation/Proposal_template_dxpt.docx\")"
   ]
  },
  {
   "cell_type": "code",
   "execution_count": 21,
   "metadata": {},
   "outputs": [
    {
     "data": {
      "text/plain": [
       "{'Abbreviations_used_in_this_proposal',\n",
       " 'Background',\n",
       " 'Melior_SD',\n",
       " 'age',\n",
       " 'blood_sample',\n",
       " 'brain_collection',\n",
       " 'brain_samples',\n",
       " 'client_name',\n",
       " 'cms',\n",
       " 'cms_bio',\n",
       " 'count',\n",
       " 'count_words',\n",
       " 'd',\n",
       " 'description',\n",
       " 'dose_levels',\n",
       " 'dose_volumes',\n",
       " 'four_dose_cost',\n",
       " 'n',\n",
       " 'one_dose_cost',\n",
       " 'partner_company',\n",
       " 'pc',\n",
       " 'pc_bio',\n",
       " 'plasma_collection',\n",
       " 'pm',\n",
       " 'pm_bio',\n",
       " 'route',\n",
       " 'sex',\n",
       " 'source',\n",
       " 'species',\n",
       " 'species_plural',\n",
       " 'strain',\n",
       " 'study_num',\n",
       " 'three_dose_cost',\n",
       " 'title',\n",
       " 'two_dose_cost'}"
      ]
     },
     "execution_count": 21,
     "metadata": {},
     "output_type": "execute_result"
    }
   ],
   "source": [
    "proposal_template.undeclared_template_variables"
   ]
  },
  {
   "cell_type": "code",
   "execution_count": null,
   "metadata": {},
   "outputs": [],
   "source": []
  }
 ],
 "metadata": {
  "kernelspec": {
   "display_name": "pra",
   "language": "python",
   "name": "python3"
  },
  "language_info": {
   "codemirror_mode": {
    "name": "ipython",
    "version": 3
   },
   "file_extension": ".py",
   "mimetype": "text/x-python",
   "name": "python",
   "nbconvert_exporter": "python",
   "pygments_lexer": "ipython3",
   "version": "3.11.4"
  }
 },
 "nbformat": 4,
 "nbformat_minor": 2
}
