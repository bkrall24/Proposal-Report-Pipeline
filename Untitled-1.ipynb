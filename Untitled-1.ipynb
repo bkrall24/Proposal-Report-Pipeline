{
 "cells": [
  {
   "cell_type": "code",
   "execution_count": null,
   "metadata": {},
   "outputs": [],
   "source": [
    "from docxtpl import DocxTemplate, subdoc\n",
    "from docx import Document, table, text\n",
    "from docx.shared import Inches\n",
    "from docx.enum.style import WD_STYLE_TYPE"
   ]
  },
  {
   "cell_type": "code",
   "execution_count": null,
   "metadata": {},
   "outputs": [],
   "source": [
    "template = Document(\"/Users/rebeccakrall/Data/Proposal-Report-Data/Templates/Report_Template_dxpt.docx\")\n",
    "prop = Document(\"/Users/rebeccakrall/Data/Proposal-Report-Data/Example Proposals/MGB_02_12DEC23_IVIS.docx\")"
   ]
  },
  {
   "cell_type": "code",
   "execution_count": null,
   "metadata": {},
   "outputs": [],
   "source": [
    "place = template.get_undeclared_template_variables()\n",
    "replace = {k : None for k in place}"
   ]
  },
  {
   "cell_type": "code",
   "execution_count": null,
   "metadata": {},
   "outputs": [],
   "source": [
    "import pandas as pd"
   ]
  },
  {
   "cell_type": "code",
   "execution_count": null,
   "metadata": {},
   "outputs": [],
   "source": [
    "from document_scraping import scrape_proposal_data\n",
    "d, di = scrape_proposal_data(\"/Users/rebeccakrall/Data/Proposal-Report-Data/Example Proposals/MGB_02_12DEC23_IVIS.docx\")"
   ]
  },
  {
   "cell_type": "code",
   "execution_count": null,
   "metadata": {},
   "outputs": [],
   "source": [
    "from document_scraping import document_TOC"
   ]
  },
  {
   "cell_type": "code",
   "execution_count": null,
   "metadata": {},
   "outputs": [],
   "source": [
    "doc = Document(\"/Users/rebeccakrall/Data/Proposal-Report-Data/Example Proposals/LXN_02_13MAY21_CCI_R1.docx\")\n",
    "data_ind = document_TOC(doc)\n",
    "data_ind['Methods']"
   ]
  },
  {
   "cell_type": "code",
   "execution_count": null,
   "metadata": {},
   "outputs": [],
   "source": [
    "all_methods = [p.text for p in doc.paragraphs[data_ind['Methods'][0]:data_ind['Methods'][1]]]"
   ]
  },
  {
   "cell_type": "code",
   "execution_count": null,
   "metadata": {},
   "outputs": [],
   "source": [
    "assay_csv = \"/Users/rebeccakrall/Data/Proposal-Report-Data/Reference_Data/Assay_Codes.xlsx\"\n",
    "assays = pd.read_excel(\"/Users/rebeccakrall/Data/Proposal-Report-Data/Reference_Data/Assay_Codes.xlsx\")\n",
    "\n",
    "ass = assays['Assay']"
   ]
  },
  {
   "cell_type": "code",
   "execution_count": null,
   "metadata": {},
   "outputs": [],
   "source": [
    "all_text = [p.text for p in doc.paragraphs]\n",
    "at = \" \".join(all_text)\n",
    "ind = at.lower().find('platform')\n",
    "at[19300:19500]"
   ]
  },
  {
   "cell_type": "code",
   "execution_count": null,
   "metadata": {},
   "outputs": [],
   "source": [
    "from document_scraping import find_string_list, find_string_paragraphs\n",
    "\n",
    "\n",
    "def find_string_paragraphs2(doc, str_list):\n",
    "    found_names = []\n",
    "    for p in doc:\n",
    "        for s in str_list:\n",
    "            # print(s)\n",
    "            if s.lower() in p.text.lower():\n",
    "                found_names.append(s)\n",
    "                # print(s)\n",
    "    \n",
    "    # return found_names\n",
    "    return found_names\n",
    "\n",
    "\n",
    "find_string_list(['Appendix'] ,data_ind.keys())"
   ]
  },
  {
   "cell_type": "code",
   "execution_count": null,
   "metadata": {},
   "outputs": [],
   "source": [
    "all_methods"
   ]
  },
  {
   "cell_type": "code",
   "execution_count": null,
   "metadata": {},
   "outputs": [],
   "source": [
    "scraped = \"/Users/rebeccakrall/Data/Proposal-Report-Data/Project_Databases/Report_data_2023.csv\""
   ]
  },
  {
   "cell_type": "code",
   "execution_count": null,
   "metadata": {},
   "outputs": [],
   "source": [
    "import pandas as pd\n",
    "data = pd.read_csv(scraped)"
   ]
  },
  {
   "cell_type": "code",
   "execution_count": null,
   "metadata": {},
   "outputs": [],
   "source": [
    "ids  = data['study_num'].unique()"
   ]
  },
  {
   "cell_type": "code",
   "execution_count": null,
   "metadata": {},
   "outputs": [],
   "source": [
    "spl = data['study_num'].str.split('  ').str[0]\n",
    "data['final_result'] = spl.str.split('_').str[:4].str.join('_')"
   ]
  },
  {
   "cell_type": "code",
   "execution_count": null,
   "metadata": {},
   "outputs": [],
   "source": [
    "ids = data['final_result'].unique()"
   ]
  },
  {
   "cell_type": "code",
   "execution_count": null,
   "metadata": {},
   "outputs": [],
   "source": [
    "data.loc[data['final_result'] == ids[0]]"
   ]
  },
  {
   "cell_type": "code",
   "execution_count": null,
   "metadata": {},
   "outputs": [],
   "source": [
    "data['methods'].unique()"
   ]
  },
  {
   "cell_type": "code",
   "execution_count": null,
   "metadata": {},
   "outputs": [],
   "source": []
  },
  {
   "cell_type": "code",
   "execution_count": null,
   "metadata": {},
   "outputs": [],
   "source": []
  },
  {
   "cell_type": "code",
   "execution_count": null,
   "metadata": {},
   "outputs": [],
   "source": [
    "assays['Assay']"
   ]
  },
  {
   "cell_type": "code",
   "execution_count": null,
   "metadata": {},
   "outputs": [],
   "source": [
    "from template_filling import scrape_test"
   ]
  },
  {
   "cell_type": "code",
   "execution_count": null,
   "metadata": {},
   "outputs": [],
   "source": [
    "scrape_test(\"/Users/rebeccakrall/Desktop/MOD_03_18OCT23_ONC_R1.docx\", \"/Users/rebeccakrall/Data/Proposal-Report-Data/Templates/Report_Template_dxpt.docx\", save_path = None, save = True)"
   ]
  },
  {
   "cell_type": "code",
   "execution_count": null,
   "metadata": {},
   "outputs": [],
   "source": [
    "\n",
    "doc = Document(\"/Users/rebeccakrall/Desktop/MOD_03_18OCT23_ONC_R1.docx\")\n",
    "data_ind = document_TOC(doc)\n",
    "scrape_project_data(0, data_ind['Title_Page'][1], doc)"
   ]
  },
  {
   "cell_type": "code",
   "execution_count": null,
   "metadata": {},
   "outputs": [],
   "source": [
    "from document_scraping import *\n",
    "\n",
    "proposal_file = \"/Users/rebeccakrall/Desktop/MOD_03_18OCT23_ONC_R1.docx\"\n",
    "data, data_ind = scrape_proposal_data(proposal_file)"
   ]
  },
  {
   "cell_type": "code",
   "execution_count": null,
   "metadata": {},
   "outputs": [],
   "source": [
    "data"
   ]
  },
  {
   "cell_type": "code",
   "execution_count": null,
   "metadata": {},
   "outputs": [],
   "source": [
    "from docxtpl import DocxTemplate, subdoc\n",
    "template_path = \"/Users/rebeccakrall/Data/Proposal-Report-Data/Templates/Report_Template_dxpt.docx\"\n",
    "\n",
    "template = DocxTemplate(template_path)\n",
    "place = template.get_undeclared_template_variables()\n",
    "replace = {k : None for k in place}"
   ]
  },
  {
   "cell_type": "code",
   "execution_count": null,
   "metadata": {},
   "outputs": [],
   "source": [
    "replace.keys()"
   ]
  },
  {
   "cell_type": "code",
   "execution_count": null,
   "metadata": {},
   "outputs": [],
   "source": [
    "from document_scraping import *\n",
    "from docx import Document, table, text\n",
    "doc = Document(proposal_file)\n",
    "data_ind = document_TOC(doc)\n",
    "scrape_people_data(data_ind, doc)"
   ]
  },
  {
   "cell_type": "code",
   "execution_count": null,
   "metadata": {},
   "outputs": [],
   "source": [
    "def tense_correct_para2(txt):\n",
    "    delimiters = r'[.:;\\t]'\n",
    "    chunks = re.split(delimiters, txt)\n",
    "    replacement = {}\n",
    "    for c in chunks:\n",
    "        new_chunk = past_tensify(c)\n",
    "        if len(new_chunk) > 0 and (c != new_chunk):\n",
    "            replacement[c] = new_chunk\n",
    "\n",
    "    return replacement"
   ]
  },
  {
   "cell_type": "code",
   "execution_count": 2,
   "metadata": {},
   "outputs": [],
   "source": [
    "from template_filling import proposal_to_report"
   ]
  },
  {
   "cell_type": "code",
   "execution_count": 12,
   "metadata": {},
   "outputs": [
    {
     "name": "stdout",
     "output_type": "stream",
     "text": [
      "FAKE_01_1JAN24_FAKE\n"
     ]
    }
   ],
   "source": [
    "temp, save_path = proposal_to_report(\"/Users/rebeccakrall/Desktop/Proposal/Fake_proposal.docx\", save_path = None)"
   ]
  },
  {
   "cell_type": "code",
   "execution_count": 11,
   "metadata": {},
   "outputs": [],
   "source": [
    "from docx import Document\n",
    "from document_scraping import *\n",
    "from template_filling import *\n",
    "proposal_file = \"/Users/rebeccakrall/Desktop/Proposal/Fake_proposal.docx\"\n",
    "doc = Document(proposal_file)\n",
    "data_ind = document_TOC(doc)\n"
   ]
  },
  {
   "cell_type": "code",
   "execution_count": 8,
   "metadata": {},
   "outputs": [],
   "source": [
    "toc_ind = [ind for ind,p in enumerate(doc.paragraphs) if p.text == 'TABLE OF CONTENTS']\n",
    "toc = [p.text for p in doc.paragraphs[toc_ind[0]:] if bool(re.search(r'\\t+\\d', p.text))]\n",
    "\n",
    "titles = []\n",
    "levels = []\n",
    "for line in toc:\n",
    "    split_line = line.split('\\t')\n",
    "    if len(split_line) == 3:\n",
    "        sec = split_line[0]\n",
    "        nums = sec.split('.')\n",
    "        titles.append(split_line[-2].strip())\n",
    "        levels.append(len(nums))\n",
    "\n",
    "index = np.array([ind for ind, paragraph in enumerate(doc.paragraphs) if paragraph.text.strip() in titles and \"Heading\" in paragraph.style.name])\n",
    "titles = [t.strip().replace(' ', '_') for t in titles]\n",
    "\n",
    "data_ind = {}\n",
    "data_ind[\"Title_Page\"] = (0, toc_ind[0])\n",
    "data_ind[\"TABLE_OF_CONTENTS\"] = (toc_ind[0], index[0])"
   ]
  },
  {
   "cell_type": "code",
   "execution_count": 9,
   "metadata": {},
   "outputs": [
    {
     "data": {
      "text/plain": [
       "{'Title_Page': (0, 21), 'TABLE_OF_CONTENTS': (21, 47)}"
      ]
     },
     "execution_count": 9,
     "metadata": {},
     "output_type": "execute_result"
    }
   ],
   "source": [
    "data_ind"
   ]
  },
  {
   "cell_type": "code",
   "execution_count": 10,
   "metadata": {},
   "outputs": [
    {
     "name": "stdout",
     "output_type": "stream",
     "text": [
      "0\n",
      "Introduction_and_Background\n",
      "[1, 4, 10, 11, 14, 18]\n",
      "50\n",
      "1\n",
      "Study_Deliverables\n",
      "[4, 10, 11, 14, 18]\n",
      "71\n",
      "2\n",
      "Fake_Company\n",
      "[3, 4, 5, 6, 7, 8, 9, 10, 11, 12, 13, 14, 15, 16, 17, 18, 19, 20, 21, 22, 23]\n",
      "63\n",
      "3\n",
      "Melior\n",
      "[4, 5, 6, 7, 8, 9, 10, 11, 12, 13, 14, 15, 16, 17, 18, 19, 20, 21, 22, 23]\n",
      "71\n",
      "4\n",
      "Experimental_Procedures\n",
      "[10, 11, 14, 18]\n",
      "119\n",
      "5\n",
      "Animal_Description\n",
      "[6, 7, 8, 9, 10, 11, 12, 13, 14, 15, 16, 17, 18, 19, 20, 21, 22, 23]\n",
      "80\n",
      "6\n",
      "Housing_and_Feeding\n",
      "[7, 8, 9, 10, 11, 12, 13, 14, 15, 16, 17, 18, 19, 20, 21, 22, 23]\n",
      "89\n",
      "7\n",
      "Design\n",
      "[8, 9, 10, 11, 12, 13, 14, 15, 16, 17, 18, 19, 20, 21, 22, 23]\n",
      "104\n",
      "8\n",
      "General_Operational_Terms\n",
      "[9, 10, 11, 12, 13, 14, 15, 16, 17, 18, 19, 20, 21, 22, 23]\n",
      "116\n",
      "9\n",
      "Methods\n",
      "[10, 11, 12, 13, 14, 15, 16, 17, 18, 19, 20, 21, 22, 23]\n",
      "119\n",
      "10\n",
      "References\n",
      "[11, 14, 18]\n",
      "122\n",
      "11\n",
      "Terms_and_Conditions\n",
      "[14, 18]\n",
      "163\n",
      "12\n",
      "Pricing\n",
      "[13, 14, 15, 16, 17, 18, 19, 20, 21, 22, 23]\n",
      "126\n",
      "13\n",
      "Terms\n",
      "[14, 15, 16, 17, 18, 19, 20, 21, 22, 23]\n",
      "163\n",
      "14\n",
      "Appendix_1:__Key_Personnel_for_this_project\n",
      "[18]\n",
      "212\n",
      "15\n",
      "Project_Manager\n",
      "[16, 17, 18, 19, 20, 21, 22, 23]\n",
      "178\n",
      "16\n",
      "Principal_Associate:\n",
      "[17, 18, 19, 20, 21, 22, 23]\n",
      "191\n",
      "17\n",
      "Client_Management_Specialist:\n",
      "[18, 19, 20, 21, 22, 23]\n",
      "212\n",
      "18\n",
      "Appendix_2:____Melior_Discovery_Background_and_Operations\n",
      "19\n",
      "Executive_Summary\n",
      "[20, 21, 22, 23]\n",
      "222\n",
      "20\n",
      "Melior_Discovery_Overview\n",
      "[21, 22, 23]\n",
      "226\n",
      "21\n",
      "Facility\n",
      "[22, 23]\n",
      "229\n",
      "22\n",
      "Security,_Monitoring,_and_Backup_Capability\n",
      "[23]\n",
      "234\n"
     ]
    }
   ],
   "source": [
    "for ind, title in enumerate(titles[:-1]):\n",
    "\n",
    "    start = index[ind]\n",
    "    print(ind)\n",
    "    print(title)\n",
    "    next_ind = [i for i,element in enumerate(levels) if element <= levels[ind] and i > ind]\n",
    "    \n",
    "    if len(next_ind):\n",
    "        print(next_ind)\n",
    "        if len(index[next_ind]) > 0:\n",
    "            end = index[next_ind][0]\n",
    "        else:\n",
    "            end = index[next_ind]\n",
    "        print(end)\n",
    "    else:\n",
    "        end = len(doc.paragraphs)\n",
    "    data_ind[title] = (start, end)\n",
    "\n",
    "data_ind[titles[-1]] = (index[-1], len(doc.paragraphs))"
   ]
  },
  {
   "cell_type": "code",
   "execution_count": null,
   "metadata": {},
   "outputs": [],
   "source": [
    "start = data_ind[p][0]\n",
    "end = data_ind[p][1]\n",
    "sd1 = template.new_subdoc()\n",
    "\n",
    "for x in range(start+1, end, 1):\n",
    "    para = sd1.add_paragraph('', input.paragraphs[x].style)\n",
    "    sd1.add_paragraph(input.paragraphs[x].text, input.paragraphs[x].style)\n",
    "\n",
    "sd1 = style_match(input.paragraphs[start+1:end], sd1)"
   ]
  },
  {
   "cell_type": "code",
   "execution_count": null,
   "metadata": {},
   "outputs": [],
   "source": [
    "data_ind"
   ]
  },
  {
   "cell_type": "code",
   "execution_count": null,
   "metadata": {},
   "outputs": [],
   "source": [
    "data_ind['Abbreviations_used_in_this_proposal']\n",
    "\n",
    "pf = doc.paragraphs[143].style.paragraph_format"
   ]
  },
  {
   "cell_type": "code",
   "execution_count": null,
   "metadata": {},
   "outputs": [],
   "source": [
    "pf.keep_with_next"
   ]
  },
  {
   "cell_type": "code",
   "execution_count": null,
   "metadata": {},
   "outputs": [],
   "source": [
    "# create subdoc\n",
    "save_file = \"/Users/rebeccakrall/Desktop/test.docx\"\n",
    "subdocument = Document()\n",
    "start = data_ind['Methods'][0]\n",
    "end = data_ind['Methods'][1]\n",
    "\n",
    "for x in range(start+1, end, 1):\n",
    "    print(x)\n",
    "    para = doc.paragraphs[x]\n",
    "    new_para = subdocument.add_paragraph('', doc.paragraphs[x].style)\n",
    "    new_text = tense_correct_para(para.text)\n",
    "    \n",
    "    for r in para.runs:\n",
    "        r_add = new_para.add_run(r.text, r.style)\n",
    "        r_add.underline = r.underline\n",
    "        r_add.italic = r.italic\n",
    "        r_add.bold = r.bold\n",
    "    \n",
    "    new_para.text = new_text\n",
    "\n",
    "\n",
    "subdocument.save(save_file)"
   ]
  },
  {
   "cell_type": "code",
   "execution_count": null,
   "metadata": {},
   "outputs": [],
   "source": [
    "start = data_ind['Methods'][0]\n",
    "end = data_ind['Methods'][1]"
   ]
  },
  {
   "cell_type": "code",
   "execution_count": null,
   "metadata": {},
   "outputs": [],
   "source": [
    "new_text = tense_correct_para2(doc.paragraphs[145].text)\n"
   ]
  },
  {
   "cell_type": "code",
   "execution_count": null,
   "metadata": {},
   "outputs": [],
   "source": [
    "new_text"
   ]
  },
  {
   "cell_type": "code",
   "execution_count": null,
   "metadata": {},
   "outputs": [],
   "source": [
    "s = doc.paragraphs[145].style.paragraph_format"
   ]
  },
  {
   "cell_type": "code",
   "execution_count": null,
   "metadata": {},
   "outputs": [],
   "source": [
    "s.line_spacing_rule"
   ]
  },
  {
   "cell_type": "code",
   "execution_count": null,
   "metadata": {},
   "outputs": [],
   "source": [
    "r.underline"
   ]
  },
  {
   "cell_type": "code",
   "execution_count": null,
   "metadata": {},
   "outputs": [],
   "source": [
    "sig_dir = \"/Users/rebeccakrall/Data/Proposal-Report-Data/Reference_Data/Signatures\""
   ]
  },
  {
   "cell_type": "code",
   "execution_count": null,
   "metadata": {},
   "outputs": [],
   "source": [
    "\n",
    "import os\n",
    "os.listdir(sig_dir)"
   ]
  },
  {
   "cell_type": "code",
   "execution_count": null,
   "metadata": {},
   "outputs": [],
   "source": [
    "name = \"Yang Yang\""
   ]
  },
  {
   "cell_type": "code",
   "execution_count": null,
   "metadata": {},
   "outputs": [],
   "source": [
    "from document_scraping import find_string_list\n",
    "find_string_list([\"Yang Yang\"], os.listdir(sig_dir))"
   ]
  },
  {
   "cell_type": "code",
   "execution_count": null,
   "metadata": {},
   "outputs": [],
   "source": [
    "from template_filling import find_signature\n",
    "find_signature('Ashley')"
   ]
  },
  {
   "cell_type": "code",
   "execution_count": 51,
   "metadata": {},
   "outputs": [],
   "source": [
    "import pickle\n",
    "with open(\"/Users/rebeccakrall/Desktop/proposals_2023.pkl\", 'rb') as file:\n",
    "    proposal_data = pickle.load(file)"
   ]
  },
  {
   "cell_type": "code",
   "execution_count": 19,
   "metadata": {},
   "outputs": [],
   "source": [
    "import os\n",
    "good_files = []\n",
    "corresponding_key = []\n",
    "for k in proposal_data.keys():\n",
    "    all_files = proposal_data[k]\n",
    "    for f in all_files:\n",
    "        fn = os.path.split(f)[-1]\n",
    "        if len(f.split(' ')) == 1:\n",
    "            good_files.append(f)\n",
    "            corresponding_key.append(k)"
   ]
  },
  {
   "cell_type": "code",
   "execution_count": 18,
   "metadata": {},
   "outputs": [
    {
     "data": {
      "text/plain": [
       "'BDH_01_Melior Client Compound Form_BDH Pharma_6-14.docx'"
      ]
     },
     "execution_count": 18,
     "metadata": {},
     "output_type": "execute_result"
    }
   ],
   "source": [
    "os.path.split('/Volumes/O-Drive/Clients/BDH_BDH Pharma/BDH_01 RD/Compound Information and Formulation/BDH_01_Melior Client Compound Form_BDH Pharma_6-14.docx')[-1]"
   ]
  },
  {
   "cell_type": "code",
   "execution_count": 53,
   "metadata": {},
   "outputs": [],
   "source": [
    "all_files = []\n",
    "for k in proposal_data:\n",
    "    for f in proposal_data[k]:\n",
    "        all_files.append(f)"
   ]
  },
  {
   "cell_type": "code",
   "execution_count": 54,
   "metadata": {},
   "outputs": [
    {
     "data": {
      "text/plain": [
       "['/Volumes/O-Drive/Clients/MOD_Modify/MOD_02/MOD_02_27JUL23_ONC.docx',\n",
       " '/Volumes/O-Drive/Clients/MOD_Modify/MOD_02/Midterm Report MOD_02_27JUL23_ONC.docx',\n",
       " '/Volumes/O-Drive/Clients/MOD_Modify/MOD_02/Draft Report MOD_02_27JUL23_ONC.docx',\n",
       " '/Volumes/O-Drive/Clients/MOD_Modify/MOD_02/Draft Report MOD_02_27JUL23_ONC_KB.docx',\n",
       " '/Volumes/O-Drive/Clients/MOD_Modify/MOD_02/Draft Report MOD_02_27JUL23_ONC_R1.docx',\n",
       " '/Volumes/O-Drive/Clients/MOD_Modify/MOD_02/Report MOD_02_27JUL23_ONC.docx',\n",
       " '/Volumes/BizDev/Client Documents/Delix Therapeutics/DLX_05_16NOV22_PK/DLX_05_16NOV22_PK.docx',\n",
       " '/Volumes/BizDev/Client Documents/Delix Therapeutics/DLX_06_17NOV22_PK/DLX_06_17NOV22_PK.docx',\n",
       " '/Volumes/BizDev/Client Documents/Delix Therapeutics/DLX_01_12AUG22_MIG/DLX_01_12AUG22_MIG.docx',\n",
       " '/Volumes/BizDev/Client Documents/Gaba Therapeutics/GABA_07_12JAN22_HT/GABA_07_10JAN22_HT.docx',\n",
       " '/Volumes/BizDev/Client Documents/Gaba Therapeutics/GABA_07_12JAN22_HT/GABA_07_10JAN22_HT_R1/GABA_07_10JAN22_HT_R1.docx',\n",
       " '/Volumes/BizDev/Client Documents/AcureX/ACX_05_13JUNE22_HT/ACX_05_13JUNE22_HT.docx',\n",
       " '/Volumes/BizDev/Client Documents/AcureX/ACX_05_13JUNE22_HT/ACX_05_13JUNE22_HT_R1/ACX_05_13JUNE22_HT_R1.docx',\n",
       " '/Volumes/BizDev/Client Documents/Akero/AKO_06_15JUL22_PK/AKO_06_15JUL22_PK.docx',\n",
       " '/Volumes/BizDev/Client Documents/Akero/AKO_06_15JUL22_PK/AKO_06_15JUL22_PK_R2/AKO_06_15JUL22_PK_R2.docx',\n",
       " '/Volumes/BizDev/Client Documents/Akero/AKO_06_15JUL22_PK/AKO_06_15JUL22_PK_R1/AKO_06_15JUL22_PK_R1.docx',\n",
       " '/Volumes/BizDev/Client Documents/Immunome/IMU_22_05OCT22_PK/IMU_22_05OCT22_PK.docx',\n",
       " '/Volumes/BizDev/Client Documents/Immunome/IMU_22_05OCT22_PK/IMU_22_05OCT22_PK_R1/IMU_22_05OCT22_PK_R1.docx',\n",
       " '/Volumes/BizDev/Client Documents/Immunome/IMU_22_05OCT22_PK/IMU_22_05OCT22_PK_R1/Immunome - Melior Discovery - IMU_22_05OCT22_PK - IMNM Edits 12Oct2022 v3_for vendor.docx',\n",
       " '/Volumes/BizDev/Client Documents/Autobahn Labs/AUTO_01_16JUN22_BT/AUTO_01_16JUN22_BT.docx',\n",
       " '/Volumes/BizDev/Client Documents/Autobahn Labs/AUTO_01_16JUN22_BT/AUTO_01_16JUN22_BT_R1/AUTO_01_16JUN22_BT_R1.docx',\n",
       " '/Volumes/BizDev/Client Documents/Seres Therapeutics/SER_01_28JUL22_LIF/SER_01_01AUG22_LIF.docx',\n",
       " '/Volumes/BizDev/Client Documents/Seres Therapeutics/SER_01_28JUL22_LIF/SER_01_28JUL22_LIF_R3/SER_01_01AUG22_LIF_R3.docx',\n",
       " '/Volumes/BizDev/Client Documents/Seres Therapeutics/SER_01_28JUL22_LIF/SER_01_28JUL22_LIF_R2/SER_01_01AUG22_LIF_R2.docx',\n",
       " '/Volumes/BizDev/Client Documents/Seres Therapeutics/SER_01_28JUL22_LIF/SER_01_28JUL22_LIF_R1/SER_01_01AUG22_LIF_R1.docx',\n",
       " '/Volumes/BizDev/Client Documents/Harvard/HAR_01_2JUL19_MPTP/HAR_01_02JUL19_MPTP.docx',\n",
       " '/Volumes/BizDev/Client Documents/Harvard/HAR_01_2JUL19_MPTP/HAR_01_2JUL19_MPTP_R1/HAR_01_02JUL19_MPTP_R1.docx',\n",
       " '/Volumes/BizDev/Client Documents/Harvard/HAR_01_2JUL19_MPTP/HAR_01_02JUL19_MPTP_R2/HAR_01_02JUL19_MPTP_R2.docx',\n",
       " '/Volumes/BizDev/Client Documents/Harvard/HAR_01_2JUL19_MPTP/HAR_01_02JUL19_MPTP_R4/HAR_01_02JUL19_MPTP_R4.docx',\n",
       " '/Volumes/BizDev/Client Documents/Harvard/HAR_01_2JUL19_MPTP/HAR_01_02JUL19_MPTP_R3/HAR_01_02JUL19_MPTP_R3.docx',\n",
       " '/Volumes/BizDev/Client Documents/Expressive Neuro/EXN_01_21DEC22_PK/EXN_01_21DEC22_PK.docx',\n",
       " '/Volumes/BizDev/Client Documents/Expressive Neuro/EXN_01_21DEC22_PK/EXN_01_21DEC22_PK_CO/EXN_01_21DEC22_PK_CO.docx',\n",
       " '/Volumes/BizDev/Client Documents/Hemoshear Therapeutics/HST_02_06DEC22_PK/HST_02_06DEC22_PK.docx',\n",
       " '/Volumes/BizDev/Client Documents/Animal Bioscience/ANB_01_12AUG21_MM/ANB_01_12AUG21_MM.docx',\n",
       " '/Volumes/BizDev/Client Documents/Animal Bioscience/ANB_01_12AUG21_MM/ANB_01_12AUG21_MM_R1/ANB_01_12AUG21_MM_R1.docx',\n",
       " '/Volumes/BizDev/Client Documents/Bionorica/BOA_02_16MAR22_ZIP/BOA_02_16MAR22_ZIP.docx',\n",
       " '/Volumes/BizDev/Client Documents/Bionorica/BOA_02_16MAR22_ZIP/BOA_02_16MAR22_ZIP_R1/BOA_02_16MAR22_ZIP_R1.docx',\n",
       " '/Volumes/BizDev/Client Documents/Bionorica/BOA_02_16MAR22_ZIP/BOA_02_16MAR22_ZIP_R2/BOA_02_16MAR22_ZIP_R2.docx',\n",
       " '/Volumes/BizDev/Client Documents/Hemoshear Therapeutics/HST_03_20FEB23_PK/HST_03_20FEB2023_PK.docx',\n",
       " '/Volumes/BizDev/Client Documents/Hemoshear Therapeutics/HST_03_20FEB23_PK/HST_03_20FEB23_PK__R1/HST_03_20FEB2023_PK_R1.docx',\n",
       " '/Volumes/BizDev/Client Documents/Hemoshear Therapeutics/HST_03_20FEB23_PK/HST_03_20FEB23_PK__R1/HST_03_20FEB2023_PK_R1.1.docx',\n",
       " '/Volumes/BizDev/Client Documents/AcureX/ACX _01_02DEC20_MPTP/ACX_01_02DEC20_MPTP.docx',\n",
       " '/Volumes/BizDev/Client Documents/AcureX/ACX _01_02DEC20_MPTP/ACX_01_02DEC20_MPTP_R6/ACX_01_02DEC20_MPTP_R6.docx',\n",
       " '/Volumes/BizDev/Client Documents/AcureX/ACX _01_02DEC20_MPTP/ACX _01_02DEC20_MPTP_R1/ACX_01_02DEC20_MPTP_R1.docx',\n",
       " '/Volumes/BizDev/Client Documents/AcureX/ACX _01_02DEC20_MPTP/ACX_01_02DEC20_MPTP_R5/ACX_01_02DEC20_MPTP_R5.docx',\n",
       " '/Volumes/BizDev/Client Documents/AcureX/ACX _01_02DEC20_MPTP/ACX_01_02DEC20_MPTP_R2/ACX_01_02DEC20_MPTP_R2.docx',\n",
       " '/Volumes/BizDev/Client Documents/AcureX/ACX _01_02DEC20_MPTP/ACX_01_02DEC20_MPTP_R3/ACX_01_02DEC20_MPTP_R3.docx',\n",
       " '/Volumes/BizDev/Client Documents/AcureX/ACX _01_02DEC20_MPTP/ACX_01_02DEC20_MPTP_R4/ACX_01_02DEC20_MPTP_R4.docx',\n",
       " '/Volumes/BizDev/Client Documents/BDH/BDH_01_26MAY22_RD/BDH_01_26MAY22_RD.docx',\n",
       " '/Volumes/BizDev/Client Documents/BDH/BDH_01_26MAY22_RD/BDH_01_26MAY22_RD_R1/BDH_01_Melior Client Compound Form.docx',\n",
       " '/Volumes/BizDev/Client Documents/BDH/BDH_01_26MAY22_RD/BDH_01_26MAY22_RD_R1/BDH_01_26MAY22_RD_R1_CO.docx',\n",
       " '/Volumes/BizDev/Client Documents/BDH/BDH_01_26MAY22_RD/BDH_01_26MAY22_RD_R1/BDH_01_26MAY22_RD_R1.docx',\n",
       " '/Volumes/BizDev/Client Documents/BDH/BDH_01_26MAY22_RD/BDH_01_26MAY22_RD_R1/BDH_01_Melior Client Compound Form_BDH Pharma_6-14.docx',\n",
       " '/Volumes/BizDev/Client Documents/Delix Therapeutics/DLX_03_31AUG22_PK/DLX_03_31AUG22_PK.docx',\n",
       " '/Volumes/BizDev/Client Documents/Delix Therapeutics/DLX_03_31AUG22_PK/DLX_03_31AUG22_PK_R2/DLX_03_31AUG22_PK_R2.docx',\n",
       " '/Volumes/BizDev/Client Documents/Delix Therapeutics/DLX_03_31AUG22_PK/DLX_03_31AUG22_PK_R2/DLX_03_31AUG22_PK_R2.1.docx',\n",
       " '/Volumes/BizDev/Client Documents/Delix Therapeutics/DLX_03_31AUG22_PK/DLX_03_31AUG22_PK_R1/DLX_03_31AUG22_PK_R1.docx',\n",
       " '/Volumes/BizDev/Client Documents/Delix Therapeutics/DLX_05_16NOV22_PK/For reference/DLX_03_31AUG22_PK_R2.1.docx',\n",
       " '/Volumes/BizDev/Client Documents/Viking Therapeutics/VKTX_02_30JUN22_DIO/VKTX_02_30JUN22_DIO.docx',\n",
       " '/Volumes/BizDev/Client Documents/Viking Therapeutics/VKTX_02_30JUN22_DIO/VKTX_02_30JUN22_DIO_R3/VKTX_02_30JUN22_DIO_R3.docx',\n",
       " '/Volumes/BizDev/Client Documents/Viking Therapeutics/VKTX_02_30JUN22_DIO/VKTX_02_30JUN22_DIO_R2/VKTX_02_30JUN22_DIO_R2.docx',\n",
       " '/Volumes/BizDev/Client Documents/Viking Therapeutics/VKTX_02_30JUN22_DIO/VKTX_02_30JUN22_DIO_R1/VKTX_02_30JUN22_DIO_R1.docx',\n",
       " '/Volumes/BizDev/Client Documents/Expressive Neuro/EXN_02_21MAR23_PK/EXN_02_21MAR23_PK.docx',\n",
       " '/Volumes/BizDev/Client Documents/Expressive Neuro/EXN_02_21MAR23_PK/EXN_02_21MAR23_PK_R1/EXN_02_21MAR23_PK_R1.docx',\n",
       " '/Volumes/BizDev/Client Documents/Expressive Neuro/EXN_02_21MAR23_PK/EXN_02_21MAR23_PK_R2/EXN_02_21MAR23_PK_R2.docx',\n",
       " '/Volumes/BizDev/Client Documents/Healx/HLX_07_29OCT21_FMR1/HLX_07_29OCT21_FMR1.docx',\n",
       " '/Volumes/BizDev/Client Documents/Healx/HLX_07_29OCT21_FMR1/HLX_07_29OCT21_FMR1_R3/HLX_07_29OCT21_FMR1_R3.docx',\n",
       " '/Volumes/BizDev/Client Documents/Healx/HLX_07_29OCT21_FMR1/HLX_07_29OCT21_FMR1_R2/HLX_07_29OCT21_FMR1_R2.docx',\n",
       " '/Volumes/BizDev/Client Documents/Healx/HLX_07_29OCT21_FMR1/HLX_07_29OCT21_FMR1_R1/HLX_07_29OCT21_FMR1_R1.docx',\n",
       " '/Volumes/BizDev/Client Documents/Sage Therapeutics/SGE_021_25JAN23_MSR/SGE_021_25JAN23_MSR.docx',\n",
       " '/Volumes/BizDev/Client Documents/Sage Therapeutics/SGE_021_25JAN23_MSR/SGE_021_25JAN23_MSR_R1/SGE_021_25JAN23_MSR_R1.docx',\n",
       " '/Volumes/BizDev/Client Documents/Sage Therapeutics/SGE_021_25JAN23_MSR/SGE_021_25JAN23_MSR_R1/SGE_021_25JAN23_MSR_R1.1.docx',\n",
       " '/Volumes/BizDev/Client Documents/Avid/AVID_02_19OCT22_LIF/AVID_02_19OCT22_LIF.docx',\n",
       " '/Volumes/BizDev/Client Documents/Avid/AVID_02_19OCT22_LIF/AVID_02_19OCT22_LIF_R1/AVID_02_19OCT22_LIF_R1.docx',\n",
       " '/Volumes/BizDev/Client Documents/Lask Pharma/LSK_01_03FEB23_EAE/LSK_01_06FEB23_EAE.docx',\n",
       " '/Volumes/BizDev/Client Documents/Lask Pharma/LSK_01_03FEB23_EAE/LSK_01_06FEB23_EAE_R1/LSK_01_06FEB23_EAE_R1.docx',\n",
       " '/Volumes/BizDev/Client Documents/Lask Pharma/LSK_01_03FEB23_EAE/LSK_01_06FEB23_EAE_R1/LSK_01_06FEB23_EAE_R1.1.docx',\n",
       " '/Volumes/BizDev/Client Documents/Bionorica/BOA_03_12AUG22_ZIP/BOA_03_15AUG22_ZIP.docx',\n",
       " '/Volumes/BizDev/Client Documents/Bionorica/BOA_03_12AUG22_ZIP/BOA_03_15AUG22_ZIP_R1/BOA_03_15AUG22_ZIP_R1.docx',\n",
       " '/Volumes/BizDev/Client Documents/Bionorica/BOA_03_12AUG22_ZIP/BOA_03_15AUG22_ZIP_R2/BOA_03_15AUG22_ZIP_R2.docx',\n",
       " '/Volumes/BizDev/Client Documents/Cosmobiolabs (Cassiopea)/CBL_01_06MAR23_HG/CBL_01_06MAR23_HG.docx',\n",
       " '/Volumes/BizDev/Client Documents/Cosmobiolabs (Cassiopea)/CBL_01_06MAR23_HG/CBL_01_02MAR23_HG_R1/CBL_01_06MAR23_HG_R1.docx',\n",
       " '/Volumes/BizDev/Client Documents/Akero/AKO_07_15JUL22_PK/AKO_07_15JUL22_PK.docx',\n",
       " '/Volumes/BizDev/Client Documents/Akero/AKO_07_15JUL22_PK/AKO_07_15JUL22_PK_R1/AKO_07_15JUL22_PK_R1.docx',\n",
       " '/Volumes/BizDev/Client Documents/Akero/AKO_07_15JUL22_PK/AKO_07_15JUL22_PK_R2/AKO_07_15JUL22_PK_R2.docx',\n",
       " '/Volumes/BizDev/Client Documents/Delix Therapeutics/DLX_02_30AUG22_PLAT/DLX_02_30AUG22_PLAT.docx',\n",
       " '/Volumes/BizDev/Client Documents/Delix Therapeutics/DLX_02_30AUG22_PLAT/DLX_0230AYUG22_PLAT_R1/DLX_02_30AUG22_PLAT_R1_Updated.docx',\n",
       " '/Volumes/BizDev/Client Documents/MindMed/MNMD_02_23JUN22_PAIN/MNMD_02_23JUN22_PAIN.docx',\n",
       " '/Volumes/BizDev/Client Documents/MindMed/MNMD_02_23JUN22_PAIN/MNMD_02_23JUN22_PAIN_R1/MNMD_02_23JUN22_PAIN_R1.docx',\n",
       " '/Volumes/BizDev/Client Documents/MindMed/MNMD_02_23JUN22_PAIN/MNMD_02_23JUN22_PAIN_R1/MNMD_02_23JUN2022_Pain_R1_CO1/MNMD_02_23Jun2022_Pain_R1_CO1.docx',\n",
       " '/Volumes/BizDev/Client Documents/Rectify Pharmaceuticals/RECT_03_22MAR22_PHENO/RECT_03_22MAR22_PHENO.docx',\n",
       " '/Volumes/BizDev/Client Documents/Rectify Pharmaceuticals/RECT_03_22MAR22_PHENO/RECT_03_22MAR22_PHENO_R1/RECT_03_22MAR22_PHENO_R1.docx',\n",
       " '/Volumes/BizDev/Client Documents/Rectify Pharmaceuticals/RECT_03_22MAR22_PHENO/RECT_03_22MAR22_PHENO_R2/RECT_03_22MAR22_PHENO_R2_Updated.docx',\n",
       " '/Volumes/BizDev/Client Documents/Rectify Pharmaceuticals/RECT_03_22MAR22_PHENO/RECT_03_22MAR22_PHENO_R2/RECT_03_22MAR22_PHENO_R2.docx',\n",
       " '/Volumes/BizDev/Client Documents/Rectify Pharmaceuticals/RECT_03_22MAR22_PHENO/RECT_03_22MAR22_PHENO_R2/RECT_03_22MAR22_PHENO_R2_CO3.docx',\n",
       " '/Volumes/BizDev/Client Documents/Assay Depot/ASD_60_13APR22_HTV/ASD_60_14APR22_HTV_MELIOR ONLY.docx',\n",
       " '/Volumes/BizDev/Client Documents/Assay Depot/ASD_60_13APR22_HTV/ASD_60_14APR22_HTV.docx',\n",
       " '/Volumes/BizDev/Client Documents/Travecta Therapeutics/TVA_01_01MAR22_MIC/TVA_01_01MAR22_MIC.docx',\n",
       " '/Volumes/BizDev/Client Documents/Travecta Therapeutics/TVA_01_01MAR22_MIC/TVA_01_01MAR22_MIC_R1/TVA_01_01MAR22_MIC_R1.docx',\n",
       " '/Volumes/BizDev/Client Documents/Travecta Therapeutics/TVA_03_01MAR22_MES/TVA_03_01MAR22_MES.docx',\n",
       " '/Volumes/BizDev/Client Documents/Travecta Therapeutics/TVA_03_01MAR22_MES/TVA_03_01MAR22_MES_R1/TVA_03_01MAR22_MES_R1.docx',\n",
       " '/Volumes/BizDev/Client Documents/Travecta Therapeutics/TVA_04_01MAR22_PTZ/TVA_04_01MAR22_PTZ.docx',\n",
       " '/Volumes/BizDev/Client Documents/Travecta Therapeutics/TVA_04_01MAR22_PTZ/TVA_04_01MAR22_PTZ_R1/TVA_04_01MAR22_PTZ_R1.docx',\n",
       " '/Volumes/BizDev/Client Documents/Jetra Therapeutics/JET_02_17JAN23_AP/JET_02_17JAN23_AP.docx',\n",
       " '/Volumes/BizDev/Client Documents/Praeventix/PRX_02_22MAR21_ITCH/PRX_02_22MAR21_ITCH_Statistical Analysis Plan.docx',\n",
       " '/Volumes/BizDev/Client Documents/Praeventix/PRX_02_22MAR21_ITCH/PRX_02_22MAR21_ITCH.docx',\n",
       " '/Volumes/BizDev/Client Documents/Praeventix/PRX_02_22MAR21_ITCH/PRX_02_22MAR21_ITCH_R1/PRX_02_22MAR21_ITCH_R1.docx',\n",
       " '/Volumes/BizDev/Client Documents/Praeventix/PRX_02_22MAR21_ITCH/PRX_02_22MAR21_ITCH_R1/PRX_02_Change Order/PRX_02_CO1.docx',\n",
       " '/Volumes/BizDev/Client Documents/Galecto_GLT/GLT_05_04MAY23_LPS/GLT_05_04MAY23_LPS.docx',\n",
       " '/Volumes/BizDev/Client Documents/Avid/AVID_03_01DEC22_U87/AVID_03_01DEC22_U87 .docx',\n",
       " '/Volumes/BizDev/Client Documents/Avid/AVID_03_01DEC22_U87/AVID_03_01DEC22_U87_R1/AVID_03_01DEC22_U87_R1 .docx',\n",
       " '/Volumes/BizDev/Client Documents/Avid/AVID_03_01DEC22_U87/AVID_03_01DEC22_U87_R2/AVID_03_01DEC22_U87_R2.docx',\n",
       " '/Volumes/BizDev/Client Documents/Rectify Pharmaceuticals/RECT_10_08MAY23_DIET2/RECT_10_08MAY23_DIET2.docx',\n",
       " '/Volumes/BizDev/Client Documents/Rectify Pharmaceuticals/RECT_10_08MAY23_DIET2/RECT_10_CO/RECT_10_CO.docx',\n",
       " '/Volumes/BizDev/Client Documents/Hemoshear Therapeutics/HST_04_11APR23_PK/HST_04_11APR23_PK.docx',\n",
       " '/Volumes/BizDev/Client Documents/Enzymetrics/EZM_02_13MAR23_DSS/EZM_02_13MAR23_DSS.docx',\n",
       " '/Volumes/BizDev/Client Documents/Enzymetrics/EZM_02_13MAR23_DSS/EZM_02_13MAR23_DSS_R1/EZM_02_13MAR23_DSS_R1.docx',\n",
       " '/Volumes/BizDev/Client Documents/Enzymetrics/EZM_02_13MAR23_DSS/EZM_02_13MAR23_DSS_R1.1/EZM_02_13MAR23_DSS_R1.1.docx',\n",
       " '/Volumes/BizDev/Client Documents/Seres Therapeutics/SER_03_16DEC22_LIF/SER_03_16DEC22_LIF.docx',\n",
       " '/Volumes/BizDev/Client Documents/Seres Therapeutics/SER_03_16DEC22_LIF/SER_03_16DEC22_LIF_R1/SER_03_16DEC22_LIF_R1.docx',\n",
       " '/Volumes/BizDev/Client Documents/Seres Therapeutics/SER_03_16DEC22_LIF/SER_03_16DEC22_LIF_R2/SER_03_16DEC22_LIF_R2.docx',\n",
       " '/Volumes/BizDev/Client Documents/Avid/AVID_04_31MAR23_U87/AVID_04_31MAR23_U87.docx',\n",
       " '/Volumes/BizDev/Client Documents/Avid/AVID_04_31MAR23_U87/AVID_04_31MAR23_U87_R1/AVID_04_31MAR23_U87_R1.docx',\n",
       " '/Volumes/BizDev/Client Documents/Avid/AVID_04_31MAR23_U87/AVID_04_31MAR23_U87_R1/AVI_04_CO/AVID_04_31MAR23_U87.docx',\n",
       " '/Volumes/BizDev/Client Documents/Avid/AVID_04_31MAR23_U87/AVID_04_31MAR23_U87_R1/AVI_04_CO/AVID_04_U87_CO.docx',\n",
       " '/Volumes/BizDev/Client Documents/Jetra Therapeutics/JET_01_17JAN23_CP/JET_01_17JAN23_CP.docx',\n",
       " '/Volumes/BizDev/Client Documents/Bionorica/BOA_04_29JUN23_ZIP/BOA_04_29JUN23_ZIP.docx',\n",
       " '/Volumes/BizDev/Client Documents/Eliem Therapeutics/ELYM_01_04APR23_PTZ/ELYM_01_14APR23_PTZ.docx',\n",
       " '/Volumes/BizDev/Client Documents/Eliem Therapeutics/ELYM_01_04APR23_PTZ/ELYM_01_04APR23_PTZ_R1/ELYM_01_14APR23_PTZ_R1.docx',\n",
       " '/Volumes/BizDev/Client Documents/Eliem Therapeutics/ELYM_01_04APR23_PTZ/ELYM_01_04APR23_PTZ_R2/ELYM_01_14APR23_PTZ_R2.docx',\n",
       " '/Volumes/BizDev/Client Documents/Eliem Therapeutics/ELYM_01_04APR23_PTZ/ELYM_01_04APR23_PTZ_R2/ELYM_01_14APR23_PTZ_R3.docx',\n",
       " '/Volumes/BizDev/Client Documents/Eliem Therapeutics/ELYM_01_04APR23_PTZ/ELYM_01_04APR23_PTZ_R2/ELYM_01_04APR23_PTZ_R2_CO1/ELYM_01_14APR23_PTZ_R2_CO1.docx',\n",
       " '/Volumes/BizDev/Client Documents/Rectify Pharmaceuticals/RECT_05_25JAN23_PK/RECT_05_25JAN23_PK.docx',\n",
       " '/Volumes/BizDev/Client Documents/Rectify Pharmaceuticals/RECT_05_25JAN23_PK/RECT_05_25JAN23_PK_R1/RECT_05_25JAN23_PK_R1.docx',\n",
       " '/Volumes/BizDev/Client Documents/Praeventix/PRX_03_10NOV22_ITCH/PRX_03_10NOV22_ITCH.docx',\n",
       " '/Volumes/BizDev/Client Documents/Sage Therapeutics/SGE_022_19APR23_SREBP/SGE_022_19APR23_SREBP.docx',\n",
       " '/Volumes/BizDev/Client Documents/Sage Therapeutics/SGE_022_19APR23_SREBP/SGE_022_SREBP_R1/SGE_022_19APR23_SREBP_R1.docx',\n",
       " '/Volumes/BizDev/Client Documents/Sage Therapeutics/SGE_022_19APR23_SREBP/SGE_022_19APR23_SREBP_R2/SGE_022_19APR23_SREBP_R2.docx',\n",
       " '/Volumes/BizDev/Client Documents/Sage Therapeutics/SGE_022_19APR23_SREBP/SGE_022_SREBP_R3/SGE_022_19APR23_SREBP_R3.docx',\n",
       " '/Volumes/BizDev/Client Documents/Sage Therapeutics/SGE_022_19APR23_SREBP/Study plan/SGE_022_SREBP_R3_SP 01June2023-signed.docx',\n",
       " '/Volumes/BizDev/Client Documents/Sage Therapeutics/SGE_023_11MAY23_SREBP/SGE_023_11MAY23_SREBP.docx',\n",
       " '/Volumes/BizDev/Client Documents/Sage Therapeutics/SGE_023_11MAY23_SREBP/Study plan/SGE_023_11MAY23_SREBP_SP-signed.docx',\n",
       " '/Volumes/BizDev/Client Documents/Alamar/ABI_01_27DEC22_ITCH/ABI_01_27DEC22_ITCH.docx',\n",
       " '/Volumes/BizDev/Client Documents/Alamar/ABI_01_27DEC22_ITCH/ABI_01_27DEC22_ITCH_R1/ABI_01_27DEC22_ITCH_R1.docx',\n",
       " '/Volumes/BizDev/Client Documents/Alamar/ABI_01_27DEC22_ITCH/ABI_01_27DEC22_ITCH_R2/ABI_01_27DEC22_ITCH_R2.docx',\n",
       " '/Volumes/BizDev/Client Documents/Degranin/DEG_01_21APR23_FLU/DEG_01_21APR23_FLU.docx',\n",
       " '/Volumes/BizDev/Client Documents/Degranin/DEG_01_21APR23_FLU/DEG_01_21APR23_FLU_R1/DEG_01_21APR23_FLU_R1.docx',\n",
       " '/Volumes/BizDev/Client Documents/Ophidion/OPI_03_09JUN23_IRW/OPI_03_09JUN23_IRW.docx',\n",
       " '/Volumes/BizDev/Client Documents/Tufts/TUF_04_01JUL20_LiPILO/TUF_04_01JUL20_LiPilo.docx',\n",
       " '/Volumes/BizDev/Client Documents/Tufts/TUF_04_01JUL20_LiPILO/TUF_04_01JUL20_LiPILO_R1/TUF_04_01JUL20_LiPilo_.docx',\n",
       " '/Volumes/BizDev/Client Documents/Tufts/TUF_04_01JUL20_LiPILO/TUF_04_01JUL20_LiPILO_R1/TUF_04_01JUL20_LiPilo_R1.docx',\n",
       " '/Volumes/BizDev/Client Documents/Tufts/TUF_04_01JUL20_LiPILO/TUF_04_01JUL20_LiPILO_R2/TUF_04_01JUL20_LiPilo_R2.docx',\n",
       " '/Volumes/BizDev/Client Documents/Rectify Pharmaceuticals/RECT_06_10MAR23_PHENO/RECT_06_10MAR23_PHENO.docx',\n",
       " '/Volumes/BizDev/Client Documents/Rectify Pharmaceuticals/RECT_06_10MAR23_PHENO/RECT_06_10MAR23_PHENO_R1/RECT_06_10MAR23_PHENO_R1.docx',\n",
       " '/Volumes/BizDev/Client Documents/Rectify Pharmaceuticals/RECT_07_29MAR23_DIET_TEST/RECT_07_29MAR23_DIET_TEST.docx',\n",
       " '/Volumes/BizDev/Client Documents/Rectify Pharmaceuticals/RECT_08_29MAR23_DIET/RECT_08_29MAR23_DIET.docx',\n",
       " '/Volumes/BizDev/Client Documents/Rectify Pharmaceuticals/RECT_08_29MAR23_DIET/RECT_08_29MAR23_DIET_R1/RECT_08_29MAR23_DIET_R1.docx',\n",
       " '/Volumes/BizDev/Client Documents/Rectify Pharmaceuticals/RECT_08_29MAR23_DIET/RECT_08_29MAR23_DIET_R1/RECT_08_29MAR23_DIET_R1_CO/RECT_08_29MAR23_DIET_R1_CO.docx',\n",
       " '/Volumes/BizDev/Client Documents/Rectify Pharmaceuticals/RECT_09_1MAY23_FAST/RECT_09_1MAY23_FAST.docx',\n",
       " '/Volumes/BizDev/Client Documents/Rectify Pharmaceuticals/RECT_09_1MAY23_FAST/RECT_09_1MAY23_FAST_R1/RECT_09_1MAY23_FAST_R1.docx',\n",
       " '/Volumes/BizDev/Client Documents/Rectify Pharmaceuticals/RECT_11_08MAY23_PO-BID/RECT_11_08MAY23_PO-BID.docx',\n",
       " '/Volumes/BizDev/Client Documents/Rectify Pharmaceuticals/RECT_11_08MAY23_PO-BID/RECT_11_08MAY23_PO-BID_CO1/RECT_11 modification to PKPD study.docx',\n",
       " '/Volumes/BizDev/Client Documents/Rectify Pharmaceuticals/RECT_11_08MAY23_PO-BID/RECT_11_08MAY23_PO-BID_CO1/RECT_11_08MAY23_PO-BID_CO.docx',\n",
       " '/Volumes/BizDev/Client Documents/Rectify Pharmaceuticals/RECT_11_08MAY23_PO-BID/RECT_11_08MAY23_PO-BID_CO1/RECT_11_08MAY23_PO-BID_CO_Updated/RECT_11 modification to PKPD study.docx',\n",
       " '/Volumes/BizDev/Client Documents/Rectify Pharmaceuticals/RECT_11_08MAY23_PO-BID/RECT_11_08MAY23_PO-BID_CO1/RECT_11_08MAY23_PO-BID_CO_Updated/RECT_11_08MAY23_PO-BID_CO_updated.docx',\n",
       " '/Volumes/BizDev/Client Documents/Sage Therapeutics/SGE_019_MM/SGE_019_16NOV22_MM.docx',\n",
       " '/Volumes/BizDev/Client Documents/Sage Therapeutics/SGE_020_11JAN23_SREBP/SGE_020_11JAN23_SREBP.docx',\n",
       " '/Volumes/BizDev/Client Documents/Assay Depot/ASD_61_13JUL22_HTV/ASD_61_13JUL22_HTV.docx',\n",
       " '/Volumes/BizDev/Client Documents/Assay Depot/ASD_61_13JUL22_HTV/ASD_61_13JUL22_HTV - MELIOR ONLY.docx',\n",
       " '/Volumes/BizDev/Client Documents/Degranin/DEG_02_30JUN23_LPS/DEG_02_30JUN23_LPS.docx',\n",
       " '/Volumes/BizDev/Client Documents/Degranin/DEG_02_30JUN23_LPS/DEG_02_30JUN23_LPS_R1/DEG_02_30JUN23_LPS_R1.docx',\n",
       " '/Volumes/BizDev/Client Documents/Vascular Research Group/VRG_01_18March22_Migraine/VRG_01_18MAR22_MIG.docx',\n",
       " '/Volumes/BizDev/Client Documents/Vascular Research Group/VRG_01_18March22_Migraine/VRG_01_18March22_Migraine_R2/VRG_01_18MAR22_MIG_R2.docx',\n",
       " '/Volumes/BizDev/Client Documents/Vascular Research Group/VRG_01_18March22_Migraine/VRG_01_18March22_Migraine_R1/VRG_01_18MAR22_MIG_R1.docx',\n",
       " '/Volumes/BizDev/Client Documents/Avid/AVID_05_09OCT23_U87/AVID_05_09OCT23_U87.docx',\n",
       " '/Volumes/BizDev/Client Documents/Avid/AVID_05_09OCT23_U87/AVID_05_09OCT23_U87_R1/AVID_05_09OCT23_U87_R1.docx',\n",
       " '/Volumes/BizDev/Client Documents/Marshall, Gerstein & Borun, LLP(MGB)/MGB_01_12OCT23_IVIS/MGB_01_12OCT23_IVIS.docx',\n",
       " '/Volumes/BizDev/Client Documents/Marshall, Gerstein & Borun, LLP(MGB)/MGB_01_12OCT23_IVIS/MGB_01_12OCT23_IVIS_R1/MGB_01_12OCT23_IVIS_R1.docx',\n",
       " '/Volumes/BizDev/Client Documents/Marshall, Gerstein & Borun, LLP(MGB)/MGB_01_12OCT23_IVIS/MGB_01_12OCT23_IVIS_R2/MGB_01_12OCT23_IVIS_R2.docx',\n",
       " '/Volumes/BizDev/Client Documents/Marshall, Gerstein & Borun, LLP(MGB)/MGB_01_12OCT23_IVIS/MGB_01_12OCT23_IVIS_R2/MGB_01 CO/MGB_01_12OCT23_IVIS_R2_CO.docx']"
      ]
     },
     "execution_count": 54,
     "metadata": {},
     "output_type": "execute_result"
    }
   ],
   "source": [
    "all_files"
   ]
  },
  {
   "cell_type": "code",
   "execution_count": 28,
   "metadata": {},
   "outputs": [
    {
     "name": "stderr",
     "output_type": "stream",
     "text": [
      "/Users/rebeccakrall/miniconda3/envs/pra/lib/python3.11/site-packages/openpyxl/worksheet/_reader.py:329: UserWarning: Unknown extension is not supported and will be removed\n",
      "  warn(msg)\n"
     ]
    }
   ],
   "source": [
    "codes = pd.read_excel(\"/Users/rebeccakrall/Data/Proposal-Report-Data/Reference_Data/Company_Codes.xlsx\")"
   ]
  },
  {
   "cell_type": "code",
   "execution_count": 32,
   "metadata": {},
   "outputs": [],
   "source": [
    "proj = pd.read_csv(\"/Users/rebeccakrall/Data/Proposal-Report-Data/Project_Databases/Projects_2023.csv\")"
   ]
  },
  {
   "cell_type": "code",
   "execution_count": 33,
   "metadata": {},
   "outputs": [],
   "source": [
    "co_codes = []\n",
    "for a in range(proj.shape[0]):\n",
    "    co_codes.append(proj.iloc[a]['Name'].split('_')[0])"
   ]
  },
  {
   "cell_type": "code",
   "execution_count": 40,
   "metadata": {},
   "outputs": [
    {
     "data": {
      "text/plain": [
       "True"
      ]
     },
     "execution_count": 40,
     "metadata": {},
     "output_type": "execute_result"
    }
   ],
   "source": []
  },
  {
   "cell_type": "code",
   "execution_count": 36,
   "metadata": {},
   "outputs": [
    {
     "data": {
      "text/plain": [
       "'DLX'"
      ]
     },
     "execution_count": 36,
     "metadata": {},
     "output_type": "execute_result"
    }
   ],
   "source": [
    "co_codes[1]"
   ]
  },
  {
   "cell_type": "code",
   "execution_count": 50,
   "metadata": {},
   "outputs": [
    {
     "data": {
      "text/plain": [
       "0"
      ]
     },
     "execution_count": 50,
     "metadata": {},
     "output_type": "execute_result"
    }
   ],
   "source": [
    "len(codes[\"Company\"][codes['Code'] == 'poop'])"
   ]
  },
  {
   "cell_type": "code",
   "execution_count": 137,
   "metadata": {},
   "outputs": [],
   "source": [
    "p = \"/Users/rebeccakrall/Data/Proposal-Report-Data/Example Proposals/LXN_02_13MAY21_CCI_R1.docx\"\n",
    "doc = Document(p)\n",
    "data_ind = document_TOC(doc)\n",
    "\n",
    "def scrape_method_data(doc, data_ind, assay_doc = \"/Users/rebeccakrall/Data/Proposal-Report-Data/Reference_Data/Assay_List.xlsx\"):\n",
    "    assays = pd.read_excel(assay_doc)\n",
    "    ass = assays['Assay']\n",
    "    k = find_string_list(['Experimental_Procedures'] ,data_ind.keys())\n",
    "    if k is not None:\n",
    "        start = data_ind[k][0]\n",
    "        end = data_ind[k][1]\n",
    "    else:\n",
    "        start = 0\n",
    "        end = len(doc.paragraphs)\n",
    "\n",
    "    # methods = [p.text for p in doc.paragraphs[start+1:end] if \"Heading\" in p.style.name]\n",
    "    methods = find_string_paragraphs2(doc.paragraphs[start:end], ass)\n",
    "\n",
    "    # print(set(methods))\n",
    "    codes = []\n",
    "    for s in set(methods):\n",
    "        codes.append(assays['Code'][assays['Assay'] == s].values[0])\n",
    "\n",
    "\n",
    "    k = find_string_list(['Methods'] ,data_ind.keys())\n",
    "    if k is not None:\n",
    "        start = data_ind[k][0]\n",
    "        end = data_ind[k][1]\n",
    "        method_headings = [p.text for p in doc.paragraphs[start+1:end] if \"Heading\" in p.style.name]\n",
    "    else:\n",
    "        method_headings = []\n",
    "    \n",
    "\n",
    "    return methods, codes, method_headings\n",
    "    \n",
    "    \n",
    "    "
   ]
  },
  {
   "cell_type": "code",
   "execution_count": 138,
   "metadata": {},
   "outputs": [
    {
     "data": {
      "text/plain": [
       "['HAR', 'VF']"
      ]
     },
     "execution_count": 138,
     "metadata": {},
     "output_type": "execute_result"
    }
   ],
   "source": [
    "codes"
   ]
  },
  {
   "cell_type": "code",
   "execution_count": 119,
   "metadata": {},
   "outputs": [],
   "source": [
    "\n",
    "def find_string_paragraphs2(doc, str_list):\n",
    "    found_names = []\n",
    "    for p in doc:\n",
    "        for s in str_list:\n",
    "            # print(s)\n",
    "            if s.lower() in p.text.lower():\n",
    "                found_names.append(s)\n",
    "                # print(s)\n",
    "    \n",
    "    # return found_names\n",
    "    return found_names"
   ]
  },
  {
   "cell_type": "code",
   "execution_count": 67,
   "metadata": {},
   "outputs": [],
   "source": [
    "# build mouse and rat method database\n",
    "mice = Document(\"/Users/rebeccakrall/Data/Proposal-Report-Data/Reference_Data/Standard  Methods -Mice 100410.docx\")"
   ]
  },
  {
   "cell_type": "code",
   "execution_count": 72,
   "metadata": {},
   "outputs": [],
   "source": [
    "mice_methods = [p.text.split('\\t')[1] for p in mice.paragraphs if bool(re.search(r'\\t+\\d', p.text))]"
   ]
  },
  {
   "cell_type": "code",
   "execution_count": 77,
   "metadata": {},
   "outputs": [],
   "source": [
    "rat = Document(\"/Users/rebeccakrall/Data/Proposal-Report-Data/Reference_Data/Standard Methods-Rats 2011.docx\")\n",
    "rat_methods = [p.text.split('\\t')[1] for p in rat.paragraphs if bool(re.search(r'\\t+\\d', p.text)) if '.' not in p.text.split('\\t')[0]]"
   ]
  },
  {
   "cell_type": "code",
   "execution_count": 120,
   "metadata": {},
   "outputs": [
    {
     "ename": "AttributeError",
     "evalue": "'list' object has no attribute 'unique'",
     "output_type": "error",
     "traceback": [
      "\u001b[0;31m---------------------------------------------------------------------------\u001b[0m",
      "\u001b[0;31mAttributeError\u001b[0m                            Traceback (most recent call last)",
      "Cell \u001b[0;32mIn[120], line 1\u001b[0m\n\u001b[0;32m----> 1\u001b[0m \u001b[43m[\u001b[49m\u001b[38;5;124;43m'\u001b[39;49m\u001b[38;5;124;43ma\u001b[39;49m\u001b[38;5;124;43m'\u001b[39;49m\u001b[43m,\u001b[49m\u001b[38;5;124;43m'\u001b[39;49m\u001b[38;5;124;43ma\u001b[39;49m\u001b[38;5;124;43m'\u001b[39;49m\u001b[43m,\u001b[49m\u001b[38;5;124;43m'\u001b[39;49m\u001b[38;5;124;43mb\u001b[39;49m\u001b[38;5;124;43m'\u001b[39;49m\u001b[43m]\u001b[49m\u001b[38;5;241;43m.\u001b[39;49m\u001b[43munique\u001b[49m()\n",
      "\u001b[0;31mAttributeError\u001b[0m: 'list' object has no attribute 'unique'"
     ]
    }
   ],
   "source": []
  },
  {
   "cell_type": "code",
   "execution_count": 80,
   "metadata": {},
   "outputs": [
    {
     "ename": "AttributeError",
     "evalue": "'numpy.ndarray' object has no attribute 'extend'",
     "output_type": "error",
     "traceback": [
      "\u001b[0;31m---------------------------------------------------------------------------\u001b[0m",
      "\u001b[0;31mAttributeError\u001b[0m                            Traceback (most recent call last)",
      "Cell \u001b[0;32mIn[80], line 1\u001b[0m\n\u001b[0;32m----> 1\u001b[0m \u001b[43mass\u001b[49m\u001b[38;5;241;43m.\u001b[39;49m\u001b[43mvalues\u001b[49m\u001b[38;5;241;43m.\u001b[39;49m\u001b[43mextend\u001b[49m(mice_methods)\n",
      "\u001b[0;31mAttributeError\u001b[0m: 'numpy.ndarray' object has no attribute 'extend'"
     ]
    }
   ],
   "source": [
    "ass.values.extend(mice_methods)"
   ]
  },
  {
   "cell_type": "code",
   "execution_count": 94,
   "metadata": {},
   "outputs": [],
   "source": [
    "all_methods = list(ass.values)\n",
    "all_methods.extend(mice_methods)\n",
    "all_methods.extend(rat_methods)"
   ]
  },
  {
   "cell_type": "code",
   "execution_count": 95,
   "metadata": {},
   "outputs": [
    {
     "data": {
      "text/plain": [
       "168"
      ]
     },
     "execution_count": 95,
     "metadata": {},
     "output_type": "execute_result"
    }
   ],
   "source": [
    "len(all_methods)"
   ]
  },
  {
   "cell_type": "code",
   "execution_count": 99,
   "metadata": {},
   "outputs": [],
   "source": [
    "df = pd.DataFrame({\"Methods\":all_methods})"
   ]
  },
  {
   "cell_type": "code",
   "execution_count": 101,
   "metadata": {},
   "outputs": [],
   "source": [
    "df.to_excel(\"/Users/rebeccakrall/Data/Proposal-Report-Data/Reference_Data/Assay_List.xlsx\")"
   ]
  },
  {
   "cell_type": "code",
   "execution_count": 104,
   "metadata": {},
   "outputs": [],
   "source": [
    "all_extra = mice_methods + rat_methods"
   ]
  },
  {
   "cell_type": "code",
   "execution_count": 109,
   "metadata": {},
   "outputs": [],
   "source": [
    "extra = pd.DataFrame({'Assay': all_extra, 'Code': None})"
   ]
  },
  {
   "cell_type": "code",
   "execution_count": 113,
   "metadata": {},
   "outputs": [],
   "source": [
    "all = pd.concat([extra, assays])"
   ]
  },
  {
   "cell_type": "code",
   "execution_count": 114,
   "metadata": {},
   "outputs": [
    {
     "data": {
      "text/html": [
       "<div>\n",
       "<style scoped>\n",
       "    .dataframe tbody tr th:only-of-type {\n",
       "        vertical-align: middle;\n",
       "    }\n",
       "\n",
       "    .dataframe tbody tr th {\n",
       "        vertical-align: top;\n",
       "    }\n",
       "\n",
       "    .dataframe thead th {\n",
       "        text-align: right;\n",
       "    }\n",
       "</style>\n",
       "<table border=\"1\" class=\"dataframe\">\n",
       "  <thead>\n",
       "    <tr style=\"text-align: right;\">\n",
       "      <th></th>\n",
       "      <th>Assay</th>\n",
       "      <th>Code</th>\n",
       "    </tr>\n",
       "  </thead>\n",
       "  <tbody>\n",
       "    <tr>\n",
       "      <th>0</th>\n",
       "      <td>Pharmacokinetics</td>\n",
       "      <td>None</td>\n",
       "    </tr>\n",
       "    <tr>\n",
       "      <th>1</th>\n",
       "      <td>Dose-Finding Study</td>\n",
       "      <td>None</td>\n",
       "    </tr>\n",
       "    <tr>\n",
       "      <th>2</th>\n",
       "      <td>Oral Glucose Tolerance Test</td>\n",
       "      <td>None</td>\n",
       "    </tr>\n",
       "    <tr>\n",
       "      <th>3</th>\n",
       "      <td>Metabolic Parameters (Insulin, Leptin and Adip...</td>\n",
       "      <td>None</td>\n",
       "    </tr>\n",
       "    <tr>\n",
       "      <th>4</th>\n",
       "      <td>Food intake; Weight Gain</td>\n",
       "      <td>None</td>\n",
       "    </tr>\n",
       "    <tr>\n",
       "      <th>...</th>\n",
       "      <td>...</td>\n",
       "      <td>...</td>\n",
       "    </tr>\n",
       "    <tr>\n",
       "      <th>90</th>\n",
       "      <td>Voluntary Running Wheel</td>\n",
       "      <td>VRW</td>\n",
       "    </tr>\n",
       "    <tr>\n",
       "      <th>91</th>\n",
       "      <td>Vogel Water Conflict</td>\n",
       "      <td>VWC</td>\n",
       "    </tr>\n",
       "    <tr>\n",
       "      <th>92</th>\n",
       "      <td>Von Frey</td>\n",
       "      <td>VF</td>\n",
       "    </tr>\n",
       "    <tr>\n",
       "      <th>93</th>\n",
       "      <td>Wound Healing</td>\n",
       "      <td>WH</td>\n",
       "    </tr>\n",
       "    <tr>\n",
       "      <th>94</th>\n",
       "      <td>ZDF rats</td>\n",
       "      <td>ZDF</td>\n",
       "    </tr>\n",
       "  </tbody>\n",
       "</table>\n",
       "<p>168 rows × 2 columns</p>\n",
       "</div>"
      ],
      "text/plain": [
       "                                                Assay  Code\n",
       "0                                    Pharmacokinetics  None\n",
       "1                                  Dose-Finding Study  None\n",
       "2                         Oral Glucose Tolerance Test  None\n",
       "3   Metabolic Parameters (Insulin, Leptin and Adip...  None\n",
       "4                            Food intake; Weight Gain  None\n",
       "..                                                ...   ...\n",
       "90                            Voluntary Running Wheel   VRW\n",
       "91                               Vogel Water Conflict   VWC\n",
       "92                                           Von Frey    VF\n",
       "93                                      Wound Healing    WH\n",
       "94                                           ZDF rats   ZDF\n",
       "\n",
       "[168 rows x 2 columns]"
      ]
     },
     "execution_count": 114,
     "metadata": {},
     "output_type": "execute_result"
    }
   ],
   "source": [
    "all"
   ]
  },
  {
   "cell_type": "code",
   "execution_count": 115,
   "metadata": {},
   "outputs": [],
   "source": [
    "all.to_excel(\"/Users/rebeccakrall/Data/Proposal-Report-Data/Reference_Data/Assay_List.xlsx\")"
   ]
  },
  {
   "cell_type": "code",
   "execution_count": 139,
   "metadata": {},
   "outputs": [],
   "source": [
    "dict1 = {'a':1, 'b':2}\n",
    "dict2 = {'a':2, 'c':3}\n",
    "\n",
    "final = {**dict1, **dict2}"
   ]
  },
  {
   "cell_type": "code",
   "execution_count": 140,
   "metadata": {},
   "outputs": [
    {
     "data": {
      "text/plain": [
       "{'a': 2, 'b': 2, 'c': 3}"
      ]
     },
     "execution_count": 140,
     "metadata": {},
     "output_type": "execute_result"
    }
   ],
   "source": [
    "final"
   ]
  },
  {
   "cell_type": "code",
   "execution_count": 141,
   "metadata": {},
   "outputs": [
    {
     "data": {
      "text/plain": [
       "['a', 'b', 'c']"
      ]
     },
     "execution_count": 141,
     "metadata": {},
     "output_type": "execute_result"
    }
   ],
   "source": [
    "list(final)"
   ]
  },
  {
   "cell_type": "code",
   "execution_count": 142,
   "metadata": {},
   "outputs": [
    {
     "data": {
      "text/plain": [
       "('a', 'b', 'c')"
      ]
     },
     "execution_count": 142,
     "metadata": {},
     "output_type": "execute_result"
    }
   ],
   "source": [
    "tuple(final)"
   ]
  },
  {
   "cell_type": "code",
   "execution_count": null,
   "metadata": {},
   "outputs": [],
   "source": []
  }
 ],
 "metadata": {
  "kernelspec": {
   "display_name": "pra",
   "language": "python",
   "name": "python3"
  },
  "language_info": {
   "codemirror_mode": {
    "name": "ipython",
    "version": 3
   },
   "file_extension": ".py",
   "mimetype": "text/x-python",
   "name": "python",
   "nbconvert_exporter": "python",
   "pygments_lexer": "ipython3",
   "version": "3.11.4"
  }
 },
 "nbformat": 4,
 "nbformat_minor": 2
}
